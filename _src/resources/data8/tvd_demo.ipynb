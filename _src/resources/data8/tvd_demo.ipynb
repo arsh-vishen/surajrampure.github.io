{
 "cells": [
  {
   "cell_type": "code",
   "execution_count": 5,
   "metadata": {},
   "outputs": [],
   "source": [
    "from datascience import *\n",
    "import numpy as np\n",
    "\n",
    "def tvd(a, b):\n",
    "  # Assumes a, b are numpy arrays\n",
    "  return sum(abs(a-b))/2\n",
    "  \n",
    "null_distribution = make_array(1/3, 1/3, 1/3)\n",
    "observed_distribution = make_array(250/750, 300/750, 200/750)\n",
    "observed_tvd = tvd(null_distribution, observed_distribution)\n",
    "\n",
    "oh_slots = [\"11-12\", \"12-1\", \"1-2\"]\n",
    "\n",
    "num_trials = 10000\n",
    "sampled_tvds = make_array()\n",
    "\n",
    "for i in np.arange(num_trials):\n",
    "    students = np.random.choice(oh_slots, 750) # Samples uniformly at random from oh_slots 750 times\n",
    "  \n",
    "  # The following three variables are the proportions for each of the three time slots\n",
    "  \n",
    "    eleven_twelve = np.count_nonzero(students == \"11-12\")/750\n",
    "    twelve_one = np.count_nonzero(students == \"12-1\")/750\n",
    "    one_two = np.count_nonzero(students == \"1-2\")/750\n",
    "\n",
    "    # Finds the TVD of the current sample and the null distribution – this is our test statistic\n",
    "    current_tvd = tvd(make_array(eleven_twelve, twelve_one, one_two), null_distribution)\n",
    "\n",
    "    sampled_tvds = np.append(sampled_tvds, current_tvd)\n",
    "\n",
    "# sampled_tvds is now an array with num_trials (10000) elements, each of which is a TVD of a sample\n",
    "# We now need to count the number of times these sampled TVDs were >= observed_tvd, and divide by num_trials\n",
    "\n",
    "p_value = np.count_nonzero(sampled_tvds >= observed_tvd) / num_trials"
   ]
  },
  {
   "cell_type": "code",
   "execution_count": 6,
   "metadata": {},
   "outputs": [
    {
     "data": {
      "text/plain": [
       "0.0002"
      ]
     },
     "execution_count": 6,
     "metadata": {},
     "output_type": "execute_result"
    }
   ],
   "source": [
    "p_value"
   ]
  },
  {
   "cell_type": "code",
   "execution_count": 7,
   "metadata": {},
   "outputs": [
    {
     "data": {
      "text/plain": [
       "0.06666666666666668"
      ]
     },
     "execution_count": 7,
     "metadata": {},
     "output_type": "execute_result"
    }
   ],
   "source": [
    "observed_tvd"
   ]
  },
  {
   "cell_type": "code",
   "execution_count": 31,
   "metadata": {},
   "outputs": [
    {
     "data": {
      "text/plain": [
       "[<matplotlib.lines.Line2D at 0x7f3f1bdbc668>]"
      ]
     },
     "execution_count": 31,
     "metadata": {},
     "output_type": "execute_result"
    },
    {
     "data": {
      "image/png": "[encoded data removed]",
      "text/plain": [
       "<matplotlib.figure.Figure at 0x7f3f1bd144a8>"
      ]
     },
     "metadata": {},
     "output_type": "display_data"
    }
   ],
   "source": [
    "from matplotlib import pyplot as plt\n",
    "%matplotlib inline\n",
    "Table().with_column(\"Sampled TVDs\", sampled_tvds).hist()\n",
    "plt.plot([observed_tvd], [0.3], marker='o', markersize=3, color=\"red\")"
   ]
  },
  {
   "cell_type": "code",
   "execution_count": null,
   "metadata": {},
   "outputs": [],
   "source": []
  }
 ],
 "metadata": {
  "kernelspec": {
   "display_name": "Python 3",
   "language": "python",
   "name": "python3"
  },
  "language_info": {
   "codemirror_mode": {
    "name": "ipython",
    "version": 3
   },
   "file_extension": ".py",
   "mimetype": "text/x-python",
   "name": "python",
   "nbconvert_exporter": "python",
   "pygments_lexer": "ipython3",
   "version": "3.6.1"
  }
 },
 "nbformat": 4,
 "nbformat_minor": 2
}
