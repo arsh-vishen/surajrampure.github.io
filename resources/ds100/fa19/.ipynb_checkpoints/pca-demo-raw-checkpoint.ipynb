{
 "cells": [
  {
   "cell_type": "markdown",
   "metadata": {},
   "source": [
    "# PCA Demo – Data 100, Fall 2019\n",
    "\n",
    "by Suraj Rampure (suraj.rampure@berkeley.edu) and Mansi Shah (emansishah@berkeley.edu)\n",
    "\n",
    "<br>\n",
    "\n",
    "This notebook was designed to supplement Discussion 7 (Lab 8) in Fall 2019. It is not meant to be a substitute for lecture or other readings; rather, it's meant to provide an example of PCA in action, and explain steps along the way."
   ]
  },
  {
   "cell_type": "code",
   "execution_count": 1,
   "metadata": {
    "colab": {},
    "colab_type": "code",
    "id": "XigoBq-XRbYg"
   },
   "outputs": [],
   "source": [
    "import matplotlib.pyplot as plt\n",
    "import numpy as np\n",
    "import pandas as pd\n",
    "import seaborn as sns\n",
    "\n",
    "%matplotlib inline"
   ]
  },
  {
   "cell_type": "markdown",
   "metadata": {
    "colab_type": "text",
    "id": "SLxuVQCCiAXP"
   },
   "source": [
    "## Getting the Data\n",
    "\n",
    "In this demo, we will be performing PCA on player data from the 2018-19 NBA season. You can learn more about this dataset [here](https://www.basketball-reference.com/leagues/NBA_2019_per_game.html)."
   ]
  },
  {
   "cell_type": "code",
   "execution_count": 2,
   "metadata": {
    "colab": {},
    "colab_type": "code",
    "id": "zMcwE_14Rkty"
   },
   "outputs": [],
   "source": [
    "df = pd.read_csv('https://gist.githubusercontent.com/surajrampure/76bef6c3561b6d99fb87106cb91ef2b1/raw/c19e1300a1f8cc36ba93713261fcdcea00f4e8ed/nba_19_stats.csv')"
   ]
  },
  {
   "cell_type": "markdown",
   "metadata": {},
   "source": [
    "We will keep only players who started over half the time, since it reduces noise for later visualizations."
   ]
  },
  {
   "cell_type": "code",
   "execution_count": 3,
   "metadata": {
    "colab": {
     "base_uri": "https://localhost:8080/",
     "height": 292
    },
    "colab_type": "code",
    "id": "ngoLEX_KUpop",
    "outputId": "9fee652c-ad57-4e97-df3c-f05bd9cca93c",
    "scrolled": true
   },
   "outputs": [
    {
     "data": {
      "text/html": [
       "<div>\n",
       "<style scoped>\n",
       "    .dataframe tbody tr th:only-of-type {\n",
       "        vertical-align: middle;\n",
       "    }\n",
       "\n",
       "    .dataframe tbody tr th {\n",
       "        vertical-align: top;\n",
       "    }\n",
       "\n",
       "    .dataframe thead th {\n",
       "        text-align: right;\n",
       "    }\n",
       "</style>\n",
       "<table border=\"1\" class=\"dataframe\">\n",
       "  <thead>\n",
       "    <tr style=\"text-align: right;\">\n",
       "      <th></th>\n",
       "      <th>Rk</th>\n",
       "      <th>Player</th>\n",
       "      <th>Pos</th>\n",
       "      <th>Age</th>\n",
       "      <th>Tm</th>\n",
       "      <th>G</th>\n",
       "      <th>GS</th>\n",
       "      <th>MP</th>\n",
       "      <th>FG</th>\n",
       "      <th>FGA</th>\n",
       "      <th>...</th>\n",
       "      <th>FT%</th>\n",
       "      <th>ORB</th>\n",
       "      <th>DRB</th>\n",
       "      <th>TRB</th>\n",
       "      <th>AST</th>\n",
       "      <th>STL</th>\n",
       "      <th>BLK</th>\n",
       "      <th>TOV</th>\n",
       "      <th>PF</th>\n",
       "      <th>PTS</th>\n",
       "    </tr>\n",
       "  </thead>\n",
       "  <tbody>\n",
       "    <tr>\n",
       "      <td>3</td>\n",
       "      <td>4</td>\n",
       "      <td>Steven Adams\\adamsst01</td>\n",
       "      <td>C</td>\n",
       "      <td>25</td>\n",
       "      <td>OKC</td>\n",
       "      <td>80</td>\n",
       "      <td>80</td>\n",
       "      <td>33.4</td>\n",
       "      <td>6.0</td>\n",
       "      <td>10.1</td>\n",
       "      <td>...</td>\n",
       "      <td>0.500</td>\n",
       "      <td>4.9</td>\n",
       "      <td>4.6</td>\n",
       "      <td>9.5</td>\n",
       "      <td>1.6</td>\n",
       "      <td>1.5</td>\n",
       "      <td>1.0</td>\n",
       "      <td>1.7</td>\n",
       "      <td>2.6</td>\n",
       "      <td>13.9</td>\n",
       "    </tr>\n",
       "    <tr>\n",
       "      <td>7</td>\n",
       "      <td>8</td>\n",
       "      <td>LaMarcus Aldridge\\aldrila01</td>\n",
       "      <td>C</td>\n",
       "      <td>33</td>\n",
       "      <td>SAS</td>\n",
       "      <td>81</td>\n",
       "      <td>81</td>\n",
       "      <td>33.2</td>\n",
       "      <td>8.4</td>\n",
       "      <td>16.3</td>\n",
       "      <td>...</td>\n",
       "      <td>0.847</td>\n",
       "      <td>3.1</td>\n",
       "      <td>6.1</td>\n",
       "      <td>9.2</td>\n",
       "      <td>2.4</td>\n",
       "      <td>0.5</td>\n",
       "      <td>1.3</td>\n",
       "      <td>1.8</td>\n",
       "      <td>2.2</td>\n",
       "      <td>21.3</td>\n",
       "    </tr>\n",
       "    <tr>\n",
       "      <td>10</td>\n",
       "      <td>11</td>\n",
       "      <td>Jarrett Allen\\allenja01</td>\n",
       "      <td>C</td>\n",
       "      <td>20</td>\n",
       "      <td>BRK</td>\n",
       "      <td>80</td>\n",
       "      <td>80</td>\n",
       "      <td>26.2</td>\n",
       "      <td>4.2</td>\n",
       "      <td>7.1</td>\n",
       "      <td>...</td>\n",
       "      <td>0.709</td>\n",
       "      <td>2.4</td>\n",
       "      <td>6.0</td>\n",
       "      <td>8.4</td>\n",
       "      <td>1.4</td>\n",
       "      <td>0.5</td>\n",
       "      <td>1.5</td>\n",
       "      <td>1.3</td>\n",
       "      <td>2.3</td>\n",
       "      <td>10.9</td>\n",
       "    </tr>\n",
       "    <tr>\n",
       "      <td>12</td>\n",
       "      <td>13</td>\n",
       "      <td>Al-Farouq Aminu\\aminual01</td>\n",
       "      <td>PF</td>\n",
       "      <td>28</td>\n",
       "      <td>POR</td>\n",
       "      <td>81</td>\n",
       "      <td>81</td>\n",
       "      <td>28.3</td>\n",
       "      <td>3.2</td>\n",
       "      <td>7.3</td>\n",
       "      <td>...</td>\n",
       "      <td>0.867</td>\n",
       "      <td>1.4</td>\n",
       "      <td>6.1</td>\n",
       "      <td>7.5</td>\n",
       "      <td>1.3</td>\n",
       "      <td>0.8</td>\n",
       "      <td>0.4</td>\n",
       "      <td>0.9</td>\n",
       "      <td>1.8</td>\n",
       "      <td>9.4</td>\n",
       "    </tr>\n",
       "    <tr>\n",
       "      <td>19</td>\n",
       "      <td>18</td>\n",
       "      <td>Giannis Antetokounmpo\\antetgi01</td>\n",
       "      <td>PF</td>\n",
       "      <td>24</td>\n",
       "      <td>MIL</td>\n",
       "      <td>72</td>\n",
       "      <td>72</td>\n",
       "      <td>32.8</td>\n",
       "      <td>10.0</td>\n",
       "      <td>17.3</td>\n",
       "      <td>...</td>\n",
       "      <td>0.729</td>\n",
       "      <td>2.2</td>\n",
       "      <td>10.3</td>\n",
       "      <td>12.5</td>\n",
       "      <td>5.9</td>\n",
       "      <td>1.3</td>\n",
       "      <td>1.5</td>\n",
       "      <td>3.7</td>\n",
       "      <td>3.2</td>\n",
       "      <td>27.7</td>\n",
       "    </tr>\n",
       "  </tbody>\n",
       "</table>\n",
       "<p>5 rows × 30 columns</p>\n",
       "</div>"
      ],
      "text/plain": [
       "    Rk                           Player Pos  Age   Tm   G  GS    MP    FG  \\\n",
       "3    4           Steven Adams\\adamsst01   C   25  OKC  80  80  33.4   6.0   \n",
       "7    8      LaMarcus Aldridge\\aldrila01   C   33  SAS  81  81  33.2   8.4   \n",
       "10  11          Jarrett Allen\\allenja01   C   20  BRK  80  80  26.2   4.2   \n",
       "12  13        Al-Farouq Aminu\\aminual01  PF   28  POR  81  81  28.3   3.2   \n",
       "19  18  Giannis Antetokounmpo\\antetgi01  PF   24  MIL  72  72  32.8  10.0   \n",
       "\n",
       "     FGA  ...    FT%  ORB   DRB   TRB  AST  STL  BLK  TOV   PF   PTS  \n",
       "3   10.1  ...  0.500  4.9   4.6   9.5  1.6  1.5  1.0  1.7  2.6  13.9  \n",
       "7   16.3  ...  0.847  3.1   6.1   9.2  2.4  0.5  1.3  1.8  2.2  21.3  \n",
       "10   7.1  ...  0.709  2.4   6.0   8.4  1.4  0.5  1.5  1.3  2.3  10.9  \n",
       "12   7.3  ...  0.867  1.4   6.1   7.5  1.3  0.8  0.4  0.9  1.8   9.4  \n",
       "19  17.3  ...  0.729  2.2  10.3  12.5  5.9  1.3  1.5  3.7  3.2  27.7  \n",
       "\n",
       "[5 rows x 30 columns]"
      ]
     },
     "execution_count": 3,
     "metadata": {},
     "output_type": "execute_result"
    }
   ],
   "source": [
    "df = df.query('GS >= 41')\n",
    "df.head()"
   ]
  },
  {
   "cell_type": "markdown",
   "metadata": {},
   "source": [
    "Furthermore, since PCA requires that our data comes in the form of a matrix, we will only look at numerical columns. We'll take everything starting from MP (minutes played), since this is where the \"per game\" statistics begin."
   ]
  },
  {
   "cell_type": "code",
   "execution_count": 4,
   "metadata": {
    "colab": {
     "base_uri": "https://localhost:8080/",
     "height": 204
    },
    "colab_type": "code",
    "id": "ArQrhQ4uUq2t",
    "outputId": "a6e5ce3f-2c50-43b1-aef0-ff9ef96e3135",
    "scrolled": true
   },
   "outputs": [
    {
     "data": {
      "text/html": [
       "<div>\n",
       "<style scoped>\n",
       "    .dataframe tbody tr th:only-of-type {\n",
       "        vertical-align: middle;\n",
       "    }\n",
       "\n",
       "    .dataframe tbody tr th {\n",
       "        vertical-align: top;\n",
       "    }\n",
       "\n",
       "    .dataframe thead th {\n",
       "        text-align: right;\n",
       "    }\n",
       "</style>\n",
       "<table border=\"1\" class=\"dataframe\">\n",
       "  <thead>\n",
       "    <tr style=\"text-align: right;\">\n",
       "      <th></th>\n",
       "      <th>MP</th>\n",
       "      <th>FG</th>\n",
       "      <th>FGA</th>\n",
       "      <th>FG%</th>\n",
       "      <th>3P</th>\n",
       "      <th>3PA</th>\n",
       "      <th>3P%</th>\n",
       "      <th>2P</th>\n",
       "      <th>2PA</th>\n",
       "      <th>2P%</th>\n",
       "      <th>...</th>\n",
       "      <th>FT%</th>\n",
       "      <th>ORB</th>\n",
       "      <th>DRB</th>\n",
       "      <th>TRB</th>\n",
       "      <th>AST</th>\n",
       "      <th>STL</th>\n",
       "      <th>BLK</th>\n",
       "      <th>TOV</th>\n",
       "      <th>PF</th>\n",
       "      <th>PTS</th>\n",
       "    </tr>\n",
       "  </thead>\n",
       "  <tbody>\n",
       "    <tr>\n",
       "      <td>3</td>\n",
       "      <td>33.4</td>\n",
       "      <td>6.0</td>\n",
       "      <td>10.1</td>\n",
       "      <td>0.595</td>\n",
       "      <td>0.0</td>\n",
       "      <td>0.0</td>\n",
       "      <td>0.000</td>\n",
       "      <td>6.0</td>\n",
       "      <td>10.1</td>\n",
       "      <td>0.596</td>\n",
       "      <td>...</td>\n",
       "      <td>0.500</td>\n",
       "      <td>4.9</td>\n",
       "      <td>4.6</td>\n",
       "      <td>9.5</td>\n",
       "      <td>1.6</td>\n",
       "      <td>1.5</td>\n",
       "      <td>1.0</td>\n",
       "      <td>1.7</td>\n",
       "      <td>2.6</td>\n",
       "      <td>13.9</td>\n",
       "    </tr>\n",
       "    <tr>\n",
       "      <td>7</td>\n",
       "      <td>33.2</td>\n",
       "      <td>8.4</td>\n",
       "      <td>16.3</td>\n",
       "      <td>0.519</td>\n",
       "      <td>0.1</td>\n",
       "      <td>0.5</td>\n",
       "      <td>0.238</td>\n",
       "      <td>8.3</td>\n",
       "      <td>15.8</td>\n",
       "      <td>0.528</td>\n",
       "      <td>...</td>\n",
       "      <td>0.847</td>\n",
       "      <td>3.1</td>\n",
       "      <td>6.1</td>\n",
       "      <td>9.2</td>\n",
       "      <td>2.4</td>\n",
       "      <td>0.5</td>\n",
       "      <td>1.3</td>\n",
       "      <td>1.8</td>\n",
       "      <td>2.2</td>\n",
       "      <td>21.3</td>\n",
       "    </tr>\n",
       "    <tr>\n",
       "      <td>10</td>\n",
       "      <td>26.2</td>\n",
       "      <td>4.2</td>\n",
       "      <td>7.1</td>\n",
       "      <td>0.590</td>\n",
       "      <td>0.1</td>\n",
       "      <td>0.6</td>\n",
       "      <td>0.133</td>\n",
       "      <td>4.1</td>\n",
       "      <td>6.5</td>\n",
       "      <td>0.629</td>\n",
       "      <td>...</td>\n",
       "      <td>0.709</td>\n",
       "      <td>2.4</td>\n",
       "      <td>6.0</td>\n",
       "      <td>8.4</td>\n",
       "      <td>1.4</td>\n",
       "      <td>0.5</td>\n",
       "      <td>1.5</td>\n",
       "      <td>1.3</td>\n",
       "      <td>2.3</td>\n",
       "      <td>10.9</td>\n",
       "    </tr>\n",
       "    <tr>\n",
       "      <td>12</td>\n",
       "      <td>28.3</td>\n",
       "      <td>3.2</td>\n",
       "      <td>7.3</td>\n",
       "      <td>0.433</td>\n",
       "      <td>1.2</td>\n",
       "      <td>3.5</td>\n",
       "      <td>0.343</td>\n",
       "      <td>2.0</td>\n",
       "      <td>3.9</td>\n",
       "      <td>0.514</td>\n",
       "      <td>...</td>\n",
       "      <td>0.867</td>\n",
       "      <td>1.4</td>\n",
       "      <td>6.1</td>\n",
       "      <td>7.5</td>\n",
       "      <td>1.3</td>\n",
       "      <td>0.8</td>\n",
       "      <td>0.4</td>\n",
       "      <td>0.9</td>\n",
       "      <td>1.8</td>\n",
       "      <td>9.4</td>\n",
       "    </tr>\n",
       "    <tr>\n",
       "      <td>19</td>\n",
       "      <td>32.8</td>\n",
       "      <td>10.0</td>\n",
       "      <td>17.3</td>\n",
       "      <td>0.578</td>\n",
       "      <td>0.7</td>\n",
       "      <td>2.8</td>\n",
       "      <td>0.256</td>\n",
       "      <td>9.3</td>\n",
       "      <td>14.5</td>\n",
       "      <td>0.641</td>\n",
       "      <td>...</td>\n",
       "      <td>0.729</td>\n",
       "      <td>2.2</td>\n",
       "      <td>10.3</td>\n",
       "      <td>12.5</td>\n",
       "      <td>5.9</td>\n",
       "      <td>1.3</td>\n",
       "      <td>1.5</td>\n",
       "      <td>3.7</td>\n",
       "      <td>3.2</td>\n",
       "      <td>27.7</td>\n",
       "    </tr>\n",
       "  </tbody>\n",
       "</table>\n",
       "<p>5 rows × 23 columns</p>\n",
       "</div>"
      ],
      "text/plain": [
       "      MP    FG   FGA    FG%   3P  3PA    3P%   2P   2PA    2P%  ...    FT%  \\\n",
       "3   33.4   6.0  10.1  0.595  0.0  0.0  0.000  6.0  10.1  0.596  ...  0.500   \n",
       "7   33.2   8.4  16.3  0.519  0.1  0.5  0.238  8.3  15.8  0.528  ...  0.847   \n",
       "10  26.2   4.2   7.1  0.590  0.1  0.6  0.133  4.1   6.5  0.629  ...  0.709   \n",
       "12  28.3   3.2   7.3  0.433  1.2  3.5  0.343  2.0   3.9  0.514  ...  0.867   \n",
       "19  32.8  10.0  17.3  0.578  0.7  2.8  0.256  9.3  14.5  0.641  ...  0.729   \n",
       "\n",
       "    ORB   DRB   TRB  AST  STL  BLK  TOV   PF   PTS  \n",
       "3   4.9   4.6   9.5  1.6  1.5  1.0  1.7  2.6  13.9  \n",
       "7   3.1   6.1   9.2  2.4  0.5  1.3  1.8  2.2  21.3  \n",
       "10  2.4   6.0   8.4  1.4  0.5  1.5  1.3  2.3  10.9  \n",
       "12  1.4   6.1   7.5  1.3  0.8  0.4  0.9  1.8   9.4  \n",
       "19  2.2  10.3  12.5  5.9  1.3  1.5  3.7  3.2  27.7  \n",
       "\n",
       "[5 rows x 23 columns]"
      ]
     },
     "execution_count": 4,
     "metadata": {},
     "output_type": "execute_result"
    }
   ],
   "source": [
    "df.iloc[:, 7:].head()"
   ]
  },
  {
   "cell_type": "markdown",
   "metadata": {},
   "source": [
    "We currently have 23 numerical columns, i.e. each row of our data is 23-dimensional. With this many columns, it's hard to identify any patterns. Our goal will be to use PCA to reduce the dimensionality of our data."
   ]
  },
  {
   "cell_type": "markdown",
   "metadata": {
    "colab_type": "text",
    "id": "08cYkQuDijwg"
   },
   "source": [
    "## Normalize the Data\n",
    "Let's first normalize our data by subtracting the mean from each column. \n",
    "- In general, we care more about the relative relationships between our variables, and not the absolute relationships. Normalizing our data prevents us from putting more weight on certain variables just because they are large. (Sometimes, for this reason, we also divide by the standard deviation of each column. We won't do this here.)\n",
    "- There is also a more robust mathematical reason for needing to center our data – the projection that PCA generates is forced to go through the origin, and so we circumvent this by centering first. [This](https://stats.stackexchange.com/questions/22329/how-does-centering-the-data-get-rid-of-the-intercept-in-regression-and-pca) StackExchange thread has a great discussion about it (in addition to the slides from Lecture 11)."
   ]
  },
  {
   "cell_type": "code",
   "execution_count": 5,
   "metadata": {
    "colab": {},
    "colab_type": "code",
    "id": "mcTIEIxVU7nr"
   },
   "outputs": [],
   "source": [
    "d = np.matrix(df.iloc[:, 7:].fillna(0)) # Replace NaNs with 0, then convert to a matrix\n",
    "col_means = d.mean(axis = 0)"
   ]
  },
  {
   "cell_type": "markdown",
   "metadata": {},
   "source": [
    "## Running Singular Value Decomposition\n",
    "\n",
    "Recall, the singular value decomposition decomposes our data matrix $X$ into the product $U \\Sigma V^T$, where \n",
    "- $U$ and $V$ are the left and right singular matrices, respectively\n",
    "    - $U$ and $V$ have orthonormal columns, meaning each of their columns are of unit length and are orthogonal to each other\n",
    "    - This also means that $U^TU = V^TV = I$\n",
    "\n",
    "- $\\Sigma$ is a diagonal matrix of singular values, which are sorted from greatest to least on the diagonal\n",
    "    - The number of nonzero singular values in $\\Sigma$ is the rank of $X$\n",
    "\n",
    "We will extract meaning from each of these quantities shortly. For now, let's just perform the decomposition."
   ]
  },
  {
   "cell_type": "code",
   "execution_count": 6,
   "metadata": {},
   "outputs": [],
   "source": [
    "u, s, vt = np.linalg.svd(d - col_means, full_matrices = False)"
   ]
  },
  {
   "cell_type": "markdown",
   "metadata": {
    "colab_type": "text",
    "id": "fZdQhcY0jDLl"
   },
   "source": [
    "## Determining the Number of Principal Components"
   ]
  },
  {
   "cell_type": "markdown",
   "metadata": {
    "colab_type": "text",
    "id": "11rdcq0lm8Sq"
   },
   "source": [
    "Before we actually compute our principal components – i.e. the projection of our data onto our new directions – let's determine the number of principal components to use.\n",
    "\n",
    "Choosing the number of principal components involves a tradeoff: if you choose too many principal components, you may defeat the purpose of doing dimensionality reduction in the first place. On the other hand, you don't want to choose too few principal components that you no longer capture much of the variance in the data. \n",
    "\n",
    "In this section, we will analyze the variance captured by each of the principal components. \n",
    "\n",
    "The singular values of our data matrix $X$ tell us how much variance each principal component captures. The variance of principal component $i$ is $\\frac{\\sigma_i^2}{N}$, i.e. $\\frac{(\\text{the $i$th singular value})^2}{\\text{the number of data points}}$.\n",
    "\n",
    "However, we don't care as much about the raw variance of a principal component – we care more about the proportion of the total variance in our dataset that a principal component captures. The **proportion of variance captured by the $i$th principal component** is $\\frac{\\sigma_i^2}{T}$, where $T = \\sum_{i = 1}^r \\sigma_i^2$ (i.e. the sum of the squares of all diagonal elements in $\\Sigma$).\n",
    "\n",
    "The proportion of variance captured by the first $k$ principal components together, then, is \n",
    "\n",
    "$$\\frac{\\sigma_1^2 + \\sigma_2^2 + ... + \\sigma_k^2}{T}$$\n",
    "\n",
    "Typically, we will look to choose $k$ such that it captures a significant portion of our data's variance (usually > 80%)."
   ]
  },
  {
   "cell_type": "code",
   "execution_count": 7,
   "metadata": {
    "colab": {},
    "colab_type": "code",
    "id": "TGKx-r_eWSMp"
   },
   "outputs": [],
   "source": [
    "# This function determines the proportion of variance captured by principal component i\n",
    "def variance_captured(s, i):\n",
    "  return s[i - 1]**2 / np.sum(s**2)\n",
    "\n",
    "# This function determines the proportion of variance captured by principal components 1, 2, ..., k\n",
    "def variance_captured_first_k(s, k):\n",
    "  return sum([variance_captured(s, ki) for ki in range(1, k+1)])"
   ]
  },
  {
   "cell_type": "markdown",
   "metadata": {
    "colab_type": "text",
    "id": "BTuuHbVUjpgZ"
   },
   "source": [
    "To help us, let's create a scree plot. Scree plots help us visualize how much of the total variance each principal component captures."
   ]
  },
  {
   "cell_type": "code",
   "execution_count": 8,
   "metadata": {
    "colab": {
     "base_uri": "https://localhost:8080/",
     "height": 283
    },
    "colab_type": "code",
    "id": "PHutKxcrjrtp",
    "outputId": "bad2e389-5b37-4136-9921-049f7428061b"
   },
   "outputs": [
    {
     "data": {
      "image/png": "[encoded data removed]",
      "text/plain": [
       "<Figure size 432x288 with 1 Axes>"
      ]
     },
     "metadata": {
      "needs_background": "light"
     },
     "output_type": "display_data"
    }
   ],
   "source": [
    "x = np.arange(1, 10)\n",
    "var = [variance_captured(s, xi) for xi in x]\n",
    "plt.plot(x, var);\n",
    "plt.xlabel('Number of Principal Components');\n",
    "plt.ylabel('Proportion of Total Variance Captured');"
   ]
  },
  {
   "cell_type": "markdown",
   "metadata": {
    "colab_type": "text",
    "id": "JehUgCddkojm"
   },
   "source": [
    "This tells us that PC1 captures ~70% of the variation in our data, PC2 captures ~15%, and so on."
   ]
  },
  {
   "cell_type": "code",
   "execution_count": 9,
   "metadata": {
    "colab": {
     "base_uri": "https://localhost:8080/",
     "height": 34
    },
    "colab_type": "code",
    "id": "2XJC4zvIYlSi",
    "outputId": "54dd78e1-2298-4efe-f4ec-175bf58d62da"
   },
   "outputs": [
    {
     "name": "stdout",
     "output_type": "stream",
     "text": [
      "0.7080735712664078 of the total variance is captured by the first 1 principal component(s)\n",
      "0.8593064191401725 of the total variance is captured by the first 2 principal component(s)\n",
      "0.9110163046930763 of the total variance is captured by the first 3 principal component(s)\n",
      "0.9473118676982448 of the total variance is captured by the first 4 principal component(s)\n",
      "0.9735469084798406 of the total variance is captured by the first 5 principal component(s)\n",
      "0.9879336113358361 of the total variance is captured by the first 6 principal component(s)\n",
      "0.9920357150026442 of the total variance is captured by the first 7 principal component(s)\n"
     ]
    }
   ],
   "source": [
    "for i in range(1, 8):\n",
    "    print('{} of the total variance is captured by the first {} principal component(s)'.format(variance_captured_first_k(s, i), i))"
   ]
  },
  {
   "cell_type": "markdown",
   "metadata": {},
   "source": [
    "The elbow method tells us that we should use either 2 or 3 principal components here, since there are diminishing returns for using any more. For ease of visualization, we will use 2."
   ]
  },
  {
   "cell_type": "markdown",
   "metadata": {
    "colab_type": "text",
    "id": "4qWqETJkk5t0"
   },
   "source": [
    "## Interpreting the Principal Component Directions"
   ]
  },
  {
   "cell_type": "markdown",
   "metadata": {
    "colab_type": "text",
    "id": "2Ef7dVzzk8ge"
   },
   "source": [
    "As mentioned above, we have that $X = U \\Sigma V^T$. We can right-multiply this equation by $V$, and since $V^TV = I$, we have that\n",
    "\n",
    "$$\\boxed{U\\Sigma = XV}$$\n",
    "\n",
    "$U \\Sigma$ and $XV$ both compute our **principal components**, i.e., they both project our original data $X$ onto  our new-found directions. The first column of each of these matrices is our first principal component, and more generally, the $i$th column of these matrices is our $i$th principal component.\n",
    "\n",
    "Let's zoom in on the calculation of $XV$.\n",
    "\n",
    "First, we can think of $X$ as a set of $d$ **column vectors**, each of which corresponds to one of the columns in our dataset. The rows in $X$, then, each correspond to a single datapoint (in our case, a single player).\n",
    "\n",
    "$$X = \\begin{bmatrix}  | & | & ... & | \\\\ X_{:, 1} & X_{:, 2} & ... & X_{:, d} \\\\ | & | & ... & |  \\end{bmatrix}$$\n",
    "\n",
    "$V$, then, contains **the directions** of our new principal components. The $i$th column of $V$ contains the direction vector corresponding to the $i$th principal component. \n",
    "\n",
    "$$V = \\begin{bmatrix} | & | & ... & | \\\\ v_{:, 1} & v_{:, 2} & ... & v_{:, d} \\\\ | & | & ... & |  \\end{bmatrix}$$\n",
    "\n",
    "Now, consider the product $XV$. By the nature of matrix multiplication, we can consider each of the columns in $V$ separately. Let's multiply by just the first column in $V$ first:\n",
    "\n",
    "$$Xv_{:, 1} = X_{:, 1} v_{1, 1} + X_{:, 2} v_{2, 1} + ... + X_{:, d} v_{d, 1}$$\n",
    "\n",
    "**The $j$th element of $v_{:, i}$ tells us the weight that principal component $i$ puts on column $j$.**\n",
    "\n",
    "<br>\n",
    "\n",
    "Looking at $V^T$, we have\n",
    "\n",
    "$$V^T = \\begin{bmatrix} - & v_1^T & - \\\\ - & v_2^T & - \\\\ & \\vdots & \\\\ - & v_d^T & -  \\end{bmatrix}$$"
   ]
  },
  {
   "cell_type": "markdown",
   "metadata": {},
   "source": [
    "As a toy example, let's suppose our dataset has three columns – height, weight, and income (in that order). Suppose we compute the SVD of our data matrix, and get that the first row of $V^T$ is $v_1^T = \\begin{bmatrix} -0.3 & 0.8 & 0.52 \\end{bmatrix}$. This tells us that our first principal component is\n",
    "\n",
    "$$PC1 = -0.3 \\cdot \\text{height} + 0.8 \\cdot \\text{weight} + 0.52 \\cdot \\text{income}$$"
   ]
  },
  {
   "cell_type": "markdown",
   "metadata": {},
   "source": [
    "Great – now let's move back to our dataset. The `weights` dataframe that we create in the next cell will list each original column, along with the weights assigned to each column by the first two principal component directions. We extract the first two directions by taking the first two rows of `vt`."
   ]
  },
  {
   "cell_type": "code",
   "execution_count": 10,
   "metadata": {
    "colab": {},
    "colab_type": "code",
    "id": "gdLZdjZQWTqD"
   },
   "outputs": [],
   "source": [
    "weights = pd.DataFrame({\n",
    "    'labels': df.iloc[:, 7:].columns,\n",
    "    'PC1 weights': np.array(vt[0, :])[0],\n",
    "    'PC2 weights': np.array(vt[1, :])[0],\n",
    "}).set_index('labels')"
   ]
  },
  {
   "cell_type": "code",
   "execution_count": 11,
   "metadata": {
    "colab": {
     "base_uri": "https://localhost:8080/",
     "height": 793
    },
    "colab_type": "code",
    "id": "GZeTdVMibH1H",
    "outputId": "69f6010e-2a0d-40d9-8884-e6869f6554da",
    "scrolled": true
   },
   "outputs": [
    {
     "data": {
      "text/html": [
       "<div>\n",
       "<style scoped>\n",
       "    .dataframe tbody tr th:only-of-type {\n",
       "        vertical-align: middle;\n",
       "    }\n",
       "\n",
       "    .dataframe tbody tr th {\n",
       "        vertical-align: top;\n",
       "    }\n",
       "\n",
       "    .dataframe thead th {\n",
       "        text-align: right;\n",
       "    }\n",
       "</style>\n",
       "<table border=\"1\" class=\"dataframe\">\n",
       "  <thead>\n",
       "    <tr style=\"text-align: right;\">\n",
       "      <th></th>\n",
       "      <th>PC1 weights</th>\n",
       "      <th>PC2 weights</th>\n",
       "    </tr>\n",
       "    <tr>\n",
       "      <th>labels</th>\n",
       "      <th></th>\n",
       "      <th></th>\n",
       "    </tr>\n",
       "  </thead>\n",
       "  <tbody>\n",
       "    <tr>\n",
       "      <td>PTS</td>\n",
       "      <td>-0.626930</td>\n",
       "      <td>-0.072263</td>\n",
       "    </tr>\n",
       "    <tr>\n",
       "      <td>FGA</td>\n",
       "      <td>-0.442062</td>\n",
       "      <td>-0.185876</td>\n",
       "    </tr>\n",
       "    <tr>\n",
       "      <td>MP</td>\n",
       "      <td>-0.333730</td>\n",
       "      <td>-0.197994</td>\n",
       "    </tr>\n",
       "    <tr>\n",
       "      <td>2PA</td>\n",
       "      <td>-0.325766</td>\n",
       "      <td>0.271668</td>\n",
       "    </tr>\n",
       "    <tr>\n",
       "      <td>FG</td>\n",
       "      <td>-0.215476</td>\n",
       "      <td>0.034322</td>\n",
       "    </tr>\n",
       "    <tr>\n",
       "      <td>FTA</td>\n",
       "      <td>-0.186783</td>\n",
       "      <td>0.101624</td>\n",
       "    </tr>\n",
       "    <tr>\n",
       "      <td>2P</td>\n",
       "      <td>-0.173027</td>\n",
       "      <td>0.211714</td>\n",
       "    </tr>\n",
       "    <tr>\n",
       "      <td>FT</td>\n",
       "      <td>-0.153964</td>\n",
       "      <td>0.036481</td>\n",
       "    </tr>\n",
       "    <tr>\n",
       "      <td>AST</td>\n",
       "      <td>-0.121689</td>\n",
       "      <td>-0.110856</td>\n",
       "    </tr>\n",
       "    <tr>\n",
       "      <td>TRB</td>\n",
       "      <td>-0.116492</td>\n",
       "      <td>0.584020</td>\n",
       "    </tr>\n",
       "    <tr>\n",
       "      <td>3PA</td>\n",
       "      <td>-0.115887</td>\n",
       "      <td>-0.456801</td>\n",
       "    </tr>\n",
       "    <tr>\n",
       "      <td>DRB</td>\n",
       "      <td>-0.100669</td>\n",
       "      <td>0.381528</td>\n",
       "    </tr>\n",
       "    <tr>\n",
       "      <td>TOV</td>\n",
       "      <td>-0.069660</td>\n",
       "      <td>0.003459</td>\n",
       "    </tr>\n",
       "    <tr>\n",
       "      <td>3P</td>\n",
       "      <td>-0.042054</td>\n",
       "      <td>-0.177175</td>\n",
       "    </tr>\n",
       "    <tr>\n",
       "      <td>ORB</td>\n",
       "      <td>-0.015642</td>\n",
       "      <td>0.200571</td>\n",
       "    </tr>\n",
       "    <tr>\n",
       "      <td>STL</td>\n",
       "      <td>-0.014924</td>\n",
       "      <td>-0.011167</td>\n",
       "    </tr>\n",
       "    <tr>\n",
       "      <td>BLK</td>\n",
       "      <td>-0.005483</td>\n",
       "      <td>0.085547</td>\n",
       "    </tr>\n",
       "    <tr>\n",
       "      <td>PF</td>\n",
       "      <td>-0.003988</td>\n",
       "      <td>0.048161</td>\n",
       "    </tr>\n",
       "    <tr>\n",
       "      <td>FT%</td>\n",
       "      <td>-0.001690</td>\n",
       "      <td>-0.010555</td>\n",
       "    </tr>\n",
       "    <tr>\n",
       "      <td>FG%</td>\n",
       "      <td>-0.000820</td>\n",
       "      <td>0.011200</td>\n",
       "    </tr>\n",
       "    <tr>\n",
       "      <td>3P%</td>\n",
       "      <td>-0.000605</td>\n",
       "      <td>-0.015655</td>\n",
       "    </tr>\n",
       "    <tr>\n",
       "      <td>2P%</td>\n",
       "      <td>-0.000466</td>\n",
       "      <td>0.008328</td>\n",
       "    </tr>\n",
       "    <tr>\n",
       "      <td>eFG%</td>\n",
       "      <td>-0.000199</td>\n",
       "      <td>0.004425</td>\n",
       "    </tr>\n",
       "  </tbody>\n",
       "</table>\n",
       "</div>"
      ],
      "text/plain": [
       "        PC1 weights  PC2 weights\n",
       "labels                          \n",
       "PTS       -0.626930    -0.072263\n",
       "FGA       -0.442062    -0.185876\n",
       "MP        -0.333730    -0.197994\n",
       "2PA       -0.325766     0.271668\n",
       "FG        -0.215476     0.034322\n",
       "FTA       -0.186783     0.101624\n",
       "2P        -0.173027     0.211714\n",
       "FT        -0.153964     0.036481\n",
       "AST       -0.121689    -0.110856\n",
       "TRB       -0.116492     0.584020\n",
       "3PA       -0.115887    -0.456801\n",
       "DRB       -0.100669     0.381528\n",
       "TOV       -0.069660     0.003459\n",
       "3P        -0.042054    -0.177175\n",
       "ORB       -0.015642     0.200571\n",
       "STL       -0.014924    -0.011167\n",
       "BLK       -0.005483     0.085547\n",
       "PF        -0.003988     0.048161\n",
       "FT%       -0.001690    -0.010555\n",
       "FG%       -0.000820     0.011200\n",
       "3P%       -0.000605    -0.015655\n",
       "2P%       -0.000466     0.008328\n",
       "eFG%      -0.000199     0.004425"
      ]
     },
     "execution_count": 11,
     "metadata": {},
     "output_type": "execute_result"
    }
   ],
   "source": [
    "weights.sort_values('PC1 weights')"
   ]
  },
  {
   "cell_type": "markdown",
   "metadata": {},
   "source": [
    "To be explicit, our first PC is computed by the following transformation:\n",
    "\n",
    "$$PC1 = -0.626930 \\cdot \\text{PTS} -0.442062 \\cdot \\text{FGA} + ... - 0.000199 \\cdot \\text{eFG%} $$\n",
    "\n",
    "We can see that in PC1, only the first 10 or so columns have significant weight, and unsurprisingly, `PTS` (i.e. average points per game) is weighed the heaviest. This suggests that `PTS` contributes significantly to PC1. Columns such as `FT%`, `FG%`, `3P%`, `2P%`, and `eFG%` contribute very little, and as such, they are assigned very little weight in both PC1 and PC2. (Note, when talking about \"weight\", we only care about absolute weight.)\n",
    "\n",
    "There are columns that are assigned sizeable weight in PC1 but not in PC2, such as `PTS` ($-0.626930$ vs $-0.072263$), and vice versa (such as `TRB`, which has weight $-0.116492$ in PC1 compared to $0.584020$ in PC2). This suggests that `PTS` is significantly more important in defining PC1 than it is in defining PC2, and that `TRB` is more important in defining `PC2`."
   ]
  },
  {
   "cell_type": "markdown",
   "metadata": {
    "colab_type": "text",
    "id": "Yd8hnsUKnhMx"
   },
   "source": [
    "As we expect, our two principal component directions are orthogonal:"
   ]
  },
  {
   "cell_type": "code",
   "execution_count": 12,
   "metadata": {
    "colab": {
     "base_uri": "https://localhost:8080/",
     "height": 34
    },
    "colab_type": "code",
    "id": "OBNdoY16bixE",
    "outputId": "6b8d21fe-7877-4d7e-e6eb-1dddc9bd903b"
   },
   "outputs": [
    {
     "data": {
      "text/plain": [
       "2.0816681711721685e-17"
      ]
     },
     "execution_count": 12,
     "metadata": {},
     "output_type": "execute_result"
    }
   ],
   "source": [
    "sum(weights.iloc[:, 1] * weights.iloc[:, 0])"
   ]
  },
  {
   "cell_type": "markdown",
   "metadata": {
    "colab_type": "text",
    "id": "8CUBGdKnrORW"
   },
   "source": [
    "This value is effectively 0; the difference is due to floating point computational error."
   ]
  },
  {
   "cell_type": "markdown",
   "metadata": {},
   "source": [
    "The key takeaway here is that the **rows of $V^T$**, or equivalently, the **columns of $V$**, contain the direction vectors that define our principal components."
   ]
  },
  {
   "cell_type": "markdown",
   "metadata": {
    "colab_type": "text",
    "id": "xwGmC4wYnnHk"
   },
   "source": [
    "## Visualizing our Data\n",
    "\n",
    "Now that we've gotten our data down to two dimensions, we can visualize it. Below, let's plot our data projected onto our new axes: PC1 and PC2."
   ]
  },
  {
   "cell_type": "code",
   "execution_count": 13,
   "metadata": {
    "colab": {
     "base_uri": "https://localhost:8080/",
     "height": 295
    },
    "colab_type": "code",
    "id": "G5RNUVnlXL4Q",
    "outputId": "ff24e213-2a69-49df-e2f9-baae88170b94",
    "scrolled": true
   },
   "outputs": [
    {
     "data": {
      "image/png": "[encoded data removed]",
      "text/plain": [
       "<Figure size 432x288 with 1 Axes>"
      ]
     },
     "metadata": {
      "needs_background": "light"
     },
     "output_type": "display_data"
    }
   ],
   "source": [
    "pc = d @ vt.T[:, :2]  # or, alternatively, u[:, :2] @ np.diag(s[:2])\n",
    "plt.scatter(np.array(pc[:, 0]), np.array(pc[:, 1]))\n",
    "plt.title('PC1 vs PC2');\n",
    "plt.xlabel('PC1');\n",
    "plt.ylabel('PC2');"
   ]
  },
  {
   "cell_type": "markdown",
   "metadata": {},
   "source": [
    "Let's step back for a second. Our original data had 23 dimensions. Through PCA, we've generated a summary scatter plot of our data, in 2 dimensions, that captures ~86% of the variation in our original data. Pretty cool!"
   ]
  },
  {
   "cell_type": "markdown",
   "metadata": {
    "colab_type": "text",
    "id": "nm0R7vWBn1IU"
   },
   "source": [
    "For fun, let's color each of our data points based on whether or not the corresponding player is a guard."
   ]
  },
  {
   "cell_type": "code",
   "execution_count": 14,
   "metadata": {
    "colab": {
     "base_uri": "https://localhost:8080/",
     "height": 295
    },
    "colab_type": "code",
    "id": "y-tDyMNEco6c",
    "outputId": "61d69c72-bd7c-409d-a3ba-2c3475db5773"
   },
   "outputs": [
    {
     "data": {
      "image/png": "[encoded data removed]",
      "text/plain": [
       "<Figure size 432x288 with 1 Axes>"
      ]
     },
     "metadata": {
      "needs_background": "light"
     },
     "output_type": "display_data"
    }
   ],
   "source": [
    "sns.scatterplot(x=list(pc[:, 0]), y=list(pc[:, 1]), hue=df['Pos'].apply(lambda x: 'G' in str(x)))\n",
    "plt.legend(['Guard', 'Not Guard'])\n",
    "plt.title('PC1 vs PC2');\n",
    "plt.xlabel('PC1');\n",
    "plt.ylabel('PC2');"
   ]
  },
  {
   "cell_type": "markdown",
   "metadata": {
    "colab": {},
    "colab_type": "code",
    "id": "5dUzII0He4IU"
   },
   "source": [
    "This demonstrates the power of PCA – in addition to efficiently reducing the dimension of our data, our PCs implicitly *clustered*, or *separated*, our data for us. We see that the points that correspond to guards are generally above the points that correspond to non-guards.\n",
    "\n",
    "This has nothing to do with dimensionality reduction, however, we will explore the idea of clustering and separation towards the end of the course."
   ]
  },
  {
   "cell_type": "markdown",
   "metadata": {},
   "source": [
    "Feel free to post on Piazza, or email us directly with questions."
   ]
  }
 ],
 "metadata": {
  "colab": {
   "collapsed_sections": [],
   "name": "PCA.ipynb",
   "provenance": []
  },
  "kernelspec": {
   "display_name": "Python 3",
   "language": "python",
   "name": "python3"
  },
  "language_info": {
   "codemirror_mode": {
    "name": "ipython",
    "version": 3
   },
   "file_extension": ".py",
   "mimetype": "text/x-python",
   "name": "python",
   "nbconvert_exporter": "python",
   "pygments_lexer": "ipython3",
   "version": "3.7.4"
  }
 },
 "nbformat": 4,
 "nbformat_minor": 1
}
